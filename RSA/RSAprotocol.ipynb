{
 "cells": [
  {
   "cell_type": "markdown",
   "id": "e2439a35",
   "metadata": {},
   "source": [
    "# Cài đặt giao thức RSA"
   ]
  },
  {
   "cell_type": "markdown",
   "id": "e42745bf",
   "metadata": {},
   "source": [
    "RSA.1 Tính toán số lớn - BigInteger"
   ]
  },
  {
   "cell_type": "markdown",
   "id": "259abdf4",
   "metadata": {},
   "source": [
    "addMod function"
   ]
  },
  {
   "cell_type": "code",
   "execution_count": 2,
   "id": "be64bf6e",
   "metadata": {},
   "outputs": [],
   "source": [
    "def addMod (x, y, n):\n",
    "    if (x + y) < n:\n",
    "        return x + y\n",
    "    return x + y - n"
   ]
  },
  {
   "cell_type": "code",
   "execution_count": 3,
   "id": "cd516673",
   "metadata": {},
   "outputs": [
    {
     "name": "stdout",
     "output_type": "stream",
     "text": [
      "8\n",
      "4\n",
      "25\n",
      "194\n"
     ]
    }
   ],
   "source": [
    "print(addMod(5, 3, 10))   # 8\n",
    "print(addMod(9, 5, 10))   # 4\n",
    "print(addMod(15, 20, 10)) # 5\n",
    "print(addMod(100, 350, 256)) # 194\n"
   ]
  },
  {
   "cell_type": "markdown",
   "id": "df65f5d9",
   "metadata": {},
   "source": [
    "mulMod funcion có mục tiêu là tính trực tiếp (x * y) mod n mà không cần tính x * y vì quá lớn "
   ]
  },
  {
   "cell_type": "code",
   "execution_count": 1,
   "id": "403f8020",
   "metadata": {},
   "outputs": [],
   "source": [
    "def mulMod(x, y, n):\n",
    "    P = 0\n",
    "\n",
    "    y_bits = bin(y)[2:][::-1]\n",
    "    b = len(y_bits)\n",
    "\n",
    "    if y_bits[0] == '1':\n",
    "        P = x % n\n",
    "    \n",
    "    for i in range(1, b):\n",
    "        x = (2 * x) % n\n",
    "\n",
    "        if y_bits[i] == '1':\n",
    "            P = (P + x) % n\n",
    "    \n",
    "    return P % n"
   ]
  },
  {
   "cell_type": "code",
   "execution_count": 3,
   "id": "9548971c",
   "metadata": {},
   "outputs": [
    {
     "data": {
      "text/plain": [
       "0"
      ]
     },
     "execution_count": 3,
     "metadata": {},
     "output_type": "execute_result"
    }
   ],
   "source": [
    "mulMod(23, 17, 391)"
   ]
  },
  {
   "cell_type": "markdown",
   "id": "00d43132",
   "metadata": {},
   "source": [
    "## Hàm tìm ước chung lớn nhất"
   ]
  },
  {
   "cell_type": "markdown",
   "id": "56ae1a84",
   "metadata": {},
   "source": [
    "Hàm tìm ước chung lớn nhất"
   ]
  },
  {
   "cell_type": "code",
   "execution_count": 1,
   "id": "a35c6a7d",
   "metadata": {},
   "outputs": [],
   "source": [
    "def gcd (x, y):\n",
    "    if x == y:\n",
    "        return x\n",
    "    elif x % 2 == 0 and y % 2 != 0:\n",
    "        return gcd(x/2, y)\n",
    "    elif x % 2 != 0 and y % 2 == 0:\n",
    "        return gcd(x, y/2)\n",
    "    elif x % 2 == 0 and y % 2 == 0:\n",
    "        return 2 * gcd(x/2, y/2)\n",
    "    elif x % 2 != 0 and y % 2 != 0:\n",
    "        return gcd(abs(x - y), min(x, y))"
   ]
  },
  {
   "cell_type": "code",
   "execution_count": 8,
   "id": "66d5f74e",
   "metadata": {},
   "outputs": [
    {
     "name": "stdout",
     "output_type": "stream",
     "text": [
      "6.0\n",
      "4.0\n",
      "1.0\n"
     ]
    }
   ],
   "source": [
    "print(gcd(48, 18))\n",
    "print(gcd(20, 8))\n",
    "print(gcd(17, 13))"
   ]
  },
  {
   "cell_type": "markdown",
   "id": "279e40fd",
   "metadata": {},
   "source": [
    "### Thuật giải Euclide"
   ]
  },
  {
   "cell_type": "code",
   "execution_count": null,
   "id": "4feafb9d",
   "metadata": {},
   "outputs": [],
   "source": [
    "#Hàm tính gcd dựa trên số nguyên\n",
    "def gcd1 (x, y):\n",
    "    while (x != y):\n",
    "        if x > y:\n",
    "            x = x - y\n",
    "        else:\n",
    "            y = y - x\n",
    "    return x"
   ]
  },
  {
   "cell_type": "code",
   "execution_count": 7,
   "id": "cec4ee69",
   "metadata": {},
   "outputs": [
    {
     "name": "stdout",
     "output_type": "stream",
     "text": [
      "6\n",
      "4\n",
      "1\n"
     ]
    }
   ],
   "source": [
    "print(gcd1(48, 18))\n",
    "print(gcd1(20, 8))\n",
    "print(gcd1(17, 13))"
   ]
  },
  {
   "cell_type": "code",
   "execution_count": 23,
   "id": "45ce48c8",
   "metadata": {},
   "outputs": [],
   "source": [
    "#Hàm tính gcd dựa trên x, y là chuỗi bit\n",
    "# def gcd2 (x, y):\n",
    "#     g = 1\n",
    "\n",
    "#     while(x % 2 == 0 and y % 2 == 0):\n",
    "#         x = x // 2\n",
    "#         y = y // 2\n",
    "#         g = 2 * g\n",
    "    \n",
    "#     while (x > 0):\n",
    "#         while(x % 2 == 0):\n",
    "#             x = x // 2\n",
    "#         while(y % 2 == 0):\n",
    "#             y = y // 2\n",
    "#         t = abs(x - y)\n",
    "\n",
    "#         if (x > y):\n",
    "#             x = t\n",
    "#         else:\n",
    "#             y = t\n",
    "    \n",
    "#     g = g * y\n",
    "\n",
    "#     return g\n",
    "\n",
    "def gcd2(x, y):\n",
    "    # Chuẩn hóa về số không âm\n",
    "    x, y = abs(x), abs(y)\n",
    "\n",
    "    # Trường hợp đơn giản\n",
    "    if x == 0: \n",
    "        return y\n",
    "    if y == 0: \n",
    "        return x\n",
    "\n",
    "    # Đếm bội số chung của 2 (g = 2^k)\n",
    "    g = 1\n",
    "    while (x % 2 == 0) and (y % 2 == 0):\n",
    "        x //= 2\n",
    "        y //= 2\n",
    "        g <<= 1  # nhân 2\n",
    "\n",
    "    # Làm x thành số lẻ\n",
    "    while x % 2 == 0:\n",
    "        x //= 2\n",
    "\n",
    "    # Vòng chính: duy trì x lẻ; giảm y rồi khử bội 2\n",
    "    while True:\n",
    "        while y % 2 == 0:\n",
    "            y //= 2\n",
    "        # Bây giờ x, y đều lẻ\n",
    "        if x > y:\n",
    "            x, y = y, x\n",
    "        y = y - x\n",
    "        if y == 0:\n",
    "            return g * x\n"
   ]
  },
  {
   "cell_type": "code",
   "execution_count": 24,
   "id": "a029fbd9",
   "metadata": {},
   "outputs": [
    {
     "name": "stdout",
     "output_type": "stream",
     "text": [
      "6\n",
      "4\n",
      "1\n"
     ]
    }
   ],
   "source": [
    "print(gcd2(48, 18))\n",
    "print(gcd2(20, 8))\n",
    "print(gcd2(17, 13))"
   ]
  }
 ],
 "metadata": {
  "kernelspec": {
   "display_name": "Python 3",
   "language": "python",
   "name": "python3"
  },
  "language_info": {
   "codemirror_mode": {
    "name": "ipython",
    "version": 3
   },
   "file_extension": ".py",
   "mimetype": "text/x-python",
   "name": "python",
   "nbconvert_exporter": "python",
   "pygments_lexer": "ipython3",
   "version": "3.13.4"
  }
 },
 "nbformat": 4,
 "nbformat_minor": 5
}
