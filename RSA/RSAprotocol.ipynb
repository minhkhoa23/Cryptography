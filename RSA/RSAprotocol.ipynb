{
 "cells": [
  {
   "cell_type": "markdown",
   "id": "e2439a35",
   "metadata": {},
   "source": [
    "# Cài đặt giao thức RSA"
   ]
  },
  {
   "cell_type": "markdown",
   "id": "296033d8",
   "metadata": {},
   "source": [
    "### Các thư viện cần thiết"
   ]
  },
  {
   "cell_type": "code",
   "execution_count": 1,
   "id": "5468fbd9",
   "metadata": {},
   "outputs": [],
   "source": [
    "import random"
   ]
  },
  {
   "cell_type": "markdown",
   "id": "c97d419c",
   "metadata": {},
   "source": [
    "## Implementation"
   ]
  },
  {
   "cell_type": "markdown",
   "id": "e42745bf",
   "metadata": {},
   "source": [
    "RSA.1 Tính toán số lớn - BigInteger"
   ]
  },
  {
   "cell_type": "markdown",
   "id": "259abdf4",
   "metadata": {},
   "source": [
    "addMod function"
   ]
  },
  {
   "cell_type": "code",
   "execution_count": 2,
   "id": "be64bf6e",
   "metadata": {},
   "outputs": [],
   "source": [
    "def addMod (x, y, n):\n",
    "    if (x + y) < n:\n",
    "        return x + y\n",
    "    return x + y - n"
   ]
  },
  {
   "cell_type": "code",
   "execution_count": 3,
   "id": "cd516673",
   "metadata": {},
   "outputs": [
    {
     "name": "stdout",
     "output_type": "stream",
     "text": [
      "8\n",
      "4\n",
      "25\n",
      "194\n"
     ]
    }
   ],
   "source": [
    "print(addMod(5, 3, 10))   # 8\n",
    "print(addMod(9, 5, 10))   # 4\n",
    "print(addMod(15, 20, 10)) # 5\n",
    "print(addMod(100, 350, 256)) # 194\n"
   ]
  },
  {
   "cell_type": "markdown",
   "id": "df65f5d9",
   "metadata": {},
   "source": [
    "mulMod funcion có mục tiêu là tính trực tiếp (x * y) mod n mà không cần tính x * y vì quá lớn "
   ]
  },
  {
   "cell_type": "code",
   "execution_count": 1,
   "id": "403f8020",
   "metadata": {},
   "outputs": [],
   "source": [
    "def mulMod(x, y, n):\n",
    "    P = 0\n",
    "\n",
    "    y_bits = bin(y)[2:][::-1]\n",
    "    b = len(y_bits)\n",
    "\n",
    "    if y_bits[0] == '1':\n",
    "        P = x % n\n",
    "    \n",
    "    for i in range(1, b):\n",
    "        x = (2 * x) % n\n",
    "\n",
    "        if y_bits[i] == '1':\n",
    "            P = (P + x) % n\n",
    "    \n",
    "    return P % n"
   ]
  },
  {
   "cell_type": "code",
   "execution_count": 16,
   "id": "9548971c",
   "metadata": {},
   "outputs": [
    {
     "data": {
      "text/plain": [
       "23"
      ]
     },
     "execution_count": 16,
     "metadata": {},
     "output_type": "execute_result"
    }
   ],
   "source": [
    "mulMod(222, 17, 31)"
   ]
  },
  {
   "cell_type": "code",
   "execution_count": 14,
   "id": "62212767",
   "metadata": {},
   "outputs": [],
   "source": [
    "def MulModVer1 (x, y, n):\n",
    "    P = 0\n",
    "    b = y.bit_length()\n",
    "    if y & 1 == 1:\n",
    "        P = x\n",
    "    for i in range(1, b):\n",
    "        x = (2*x) % n\n",
    "        z = ((y >> i) & 1) * x\n",
    "        P = (P + z) % n\n",
    "    return P"
   ]
  },
  {
   "cell_type": "code",
   "execution_count": 17,
   "id": "e91c89b9",
   "metadata": {},
   "outputs": [
    {
     "data": {
      "text/plain": [
       "23"
      ]
     },
     "execution_count": 17,
     "metadata": {},
     "output_type": "execute_result"
    }
   ],
   "source": [
    "MulModVer1(222, 17, 31)"
   ]
  },
  {
   "cell_type": "markdown",
   "id": "6ea67a97",
   "metadata": {},
   "source": [
    "Hàm powerMod(x, p, n) tính lũy thừa x^p % n"
   ]
  },
  {
   "cell_type": "code",
   "execution_count": 27,
   "id": "66184f0f",
   "metadata": {},
   "outputs": [],
   "source": [
    "def PowerModVer1(x, p, n): #low to high\n",
    "    y = 1\n",
    "    if p == 0:\n",
    "        return y\n",
    "    A = x\n",
    "    if (p & 1 == 1):\n",
    "        y = x\n",
    "    for i in range(1, p.bit_length()):\n",
    "        A = (A * A) % n\n",
    "        if ((p >> i) & 1):\n",
    "            y = A * y % n\n",
    "    return y"
   ]
  },
  {
   "cell_type": "code",
   "execution_count": 36,
   "id": "2fc10683",
   "metadata": {},
   "outputs": [
    {
     "data": {
      "text/plain": [
       "8"
      ]
     },
     "execution_count": 36,
     "metadata": {},
     "output_type": "execute_result"
    }
   ],
   "source": [
    "PowerModVer1(123,3521,23)"
   ]
  },
  {
   "cell_type": "code",
   "execution_count": 31,
   "id": "97b65cc3",
   "metadata": {},
   "outputs": [],
   "source": [
    "def PowerModVer2(x, p, n):\n",
    "    y = 1\n",
    "    for i in range (p.bit_length(), 0 - 1, -1):\n",
    "        y = (y * y) % n\n",
    "        if ((p >> i) & 1) == 1:\n",
    "            y = y * x % n\n",
    "    return y"
   ]
  },
  {
   "cell_type": "code",
   "execution_count": 37,
   "id": "96173ad9",
   "metadata": {},
   "outputs": [
    {
     "data": {
      "text/plain": [
       "8"
      ]
     },
     "execution_count": 37,
     "metadata": {},
     "output_type": "execute_result"
    }
   ],
   "source": [
    "PowerModVer2(123,3521,23)"
   ]
  },
  {
   "cell_type": "markdown",
   "id": "00d43132",
   "metadata": {},
   "source": [
    "## Hàm tìm ước chung lớn nhất"
   ]
  },
  {
   "cell_type": "markdown",
   "id": "ebf6970a",
   "metadata": {},
   "source": [
    "Hàm tìm ước chung đơn giản nhất"
   ]
  },
  {
   "cell_type": "code",
   "execution_count": 5,
   "id": "110deecb",
   "metadata": {},
   "outputs": [],
   "source": [
    "#x > y\n",
    "def basicGCD(x, y):\n",
    "    if (y > x):\n",
    "        temp = x\n",
    "        x = y\n",
    "        y = temp\n",
    "    while y > 0:\n",
    "        r = x % y\n",
    "        x = y\n",
    "        y = r\n",
    "    return x"
   ]
  },
  {
   "cell_type": "code",
   "execution_count": 6,
   "id": "51f075e6",
   "metadata": {},
   "outputs": [
    {
     "name": "stdout",
     "output_type": "stream",
     "text": [
      "6\n",
      "4\n",
      "1\n"
     ]
    }
   ],
   "source": [
    "print(basicGCD(18, 48))\n",
    "print(basicGCD(20, 8))\n",
    "print(basicGCD(17, 13))"
   ]
  },
  {
   "cell_type": "markdown",
   "id": "56ae1a84",
   "metadata": {},
   "source": [
    "Hàm tìm ước chung lớn nhất"
   ]
  },
  {
   "cell_type": "code",
   "execution_count": 1,
   "id": "a35c6a7d",
   "metadata": {},
   "outputs": [],
   "source": [
    "def gcd (x, y):\n",
    "    if x == y:\n",
    "        return x\n",
    "    elif x % 2 == 0 and y % 2 != 0:\n",
    "        return gcd(x/2, y)\n",
    "    elif x % 2 != 0 and y % 2 == 0:\n",
    "        return gcd(x, y/2)\n",
    "    elif x % 2 == 0 and y % 2 == 0:\n",
    "        return 2 * gcd(x/2, y/2)\n",
    "    elif x % 2 != 0 and y % 2 != 0:\n",
    "        return gcd(abs(x - y), min(x, y))"
   ]
  },
  {
   "cell_type": "code",
   "execution_count": 8,
   "id": "66d5f74e",
   "metadata": {},
   "outputs": [
    {
     "name": "stdout",
     "output_type": "stream",
     "text": [
      "6.0\n",
      "4.0\n",
      "1.0\n"
     ]
    }
   ],
   "source": [
    "print(gcd(48, 18))\n",
    "print(gcd(20, 8))\n",
    "print(gcd(17, 13))"
   ]
  },
  {
   "cell_type": "markdown",
   "id": "279e40fd",
   "metadata": {},
   "source": [
    "### Thuật giải Euclide"
   ]
  },
  {
   "cell_type": "code",
   "execution_count": null,
   "id": "4feafb9d",
   "metadata": {},
   "outputs": [],
   "source": [
    "#Hàm tính gcd dựa trên số nguyên\n",
    "def gcd1 (x, y):\n",
    "    while (x != y):\n",
    "        if x > y:\n",
    "            x = x - y\n",
    "        else:\n",
    "            y = y - x\n",
    "    return x"
   ]
  },
  {
   "cell_type": "code",
   "execution_count": 7,
   "id": "cec4ee69",
   "metadata": {},
   "outputs": [
    {
     "name": "stdout",
     "output_type": "stream",
     "text": [
      "6\n",
      "4\n",
      "1\n"
     ]
    }
   ],
   "source": [
    "print(gcd1(48, 18))\n",
    "print(gcd1(20, 8))\n",
    "print(gcd1(17, 13))"
   ]
  },
  {
   "cell_type": "code",
   "execution_count": 26,
   "id": "45ce48c8",
   "metadata": {},
   "outputs": [],
   "source": [
    "#Hàm tính gcd dựa trên x, y là chuỗi bit\n",
    "# y > x\n",
    "def gcd2 (x, y):\n",
    "    g = 1\n",
    "\n",
    "    while(x % 2 == 0 and y % 2 == 0):\n",
    "        x = x // 2\n",
    "        y = y // 2\n",
    "        g = g << 1\n",
    "    \n",
    "    while (x != 0 and y != 0):\n",
    "        while(x % 2 == 0):\n",
    "            x = x // 2\n",
    "        while(y % 2 == 0):\n",
    "            y = y // 2\n",
    "\n",
    "        t = abs(x - y)\n",
    "        if (x > y):\n",
    "            x = t\n",
    "        else:\n",
    "            y = t\n",
    "    \n",
    "    g = g * x\n",
    "    return g\n",
    "\n",
    "# def gcd2(x, y):\n",
    "#     # Chuẩn hóa về số không âm\n",
    "#     x, y = abs(x), abs(y)\n",
    "\n",
    "#     # Trường hợp đơn giản\n",
    "#     if x == 0: \n",
    "#         return y\n",
    "#     if y == 0: \n",
    "#         return x\n",
    "\n",
    "#     # Đếm bội số chung của 2 (g = 2^k)\n",
    "#     g = 1\n",
    "#     while (x % 2 == 0) and (y % 2 == 0):\n",
    "#         x //= 2\n",
    "#         y //= 2\n",
    "#         g <<= 1  # nhân 2\n",
    "\n",
    "#     # Làm x thành số lẻ\n",
    "#     while x % 2 == 0:\n",
    "#         x //= 2\n",
    "\n",
    "#     # Vòng chính: duy trì x lẻ; giảm y rồi khử bội 2\n",
    "#     while True:\n",
    "#         while y % 2 == 0:\n",
    "#             y //= 2\n",
    "#         # Bây giờ x, y đều lẻ\n",
    "#         if x > y:\n",
    "#             x, y = y, x\n",
    "#         y = y - x\n",
    "#         if y == 0:\n",
    "#             return g * x\n"
   ]
  },
  {
   "cell_type": "code",
   "execution_count": 32,
   "id": "a029fbd9",
   "metadata": {},
   "outputs": [
    {
     "name": "stdout",
     "output_type": "stream",
     "text": [
      "6\n",
      "4\n",
      "1\n",
      "1\n"
     ]
    }
   ],
   "source": [
    "print(gcd2(48, 18))\n",
    "print(gcd2(8, 20))\n",
    "print(gcd2(17, 13))\n",
    "print(gcd2(5432795,48392))"
   ]
  }
 ],
 "metadata": {
  "kernelspec": {
   "display_name": "Python 3",
   "language": "python",
   "name": "python3"
  },
  "language_info": {
   "codemirror_mode": {
    "name": "ipython",
    "version": 3
   },
   "file_extension": ".py",
   "mimetype": "text/x-python",
   "name": "python",
   "nbconvert_exporter": "python",
   "pygments_lexer": "ipython3",
   "version": "3.13.4"
  }
 },
 "nbformat": 4,
 "nbformat_minor": 5
}
