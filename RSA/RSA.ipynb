{
 "cells": [
  {
   "cell_type": "markdown",
   "id": "fa339fd1",
   "metadata": {},
   "source": [
    "# Triển khai Hệ mã RSA"
   ]
  },
  {
   "cell_type": "markdown",
   "id": "0136916d",
   "metadata": {},
   "source": [
    "Cho một bản rõ m là số nguyên"
   ]
  },
  {
   "cell_type": "code",
   "execution_count": 69,
   "id": "10cddd2e",
   "metadata": {},
   "outputs": [],
   "source": [
    "m = 7"
   ]
  },
  {
   "cell_type": "markdown",
   "id": "c8fa24f4",
   "metadata": {},
   "source": [
    "Bước 1: chọn hai số nguyên tố q, p khác nhau"
   ]
  },
  {
   "cell_type": "code",
   "execution_count": 70,
   "id": "dd8711c7",
   "metadata": {},
   "outputs": [],
   "source": [
    "p = 17\n",
    "q = 23"
   ]
  },
  {
   "cell_type": "markdown",
   "id": "dd7d2531",
   "metadata": {},
   "source": [
    "Bước 2: Tính n = p x q, φ(n)=(p−1)(q−1) "
   ]
  },
  {
   "cell_type": "code",
   "execution_count": 71,
   "id": "f240fadd",
   "metadata": {},
   "outputs": [
    {
     "name": "stdout",
     "output_type": "stream",
     "text": [
      "391\n",
      "352\n"
     ]
    }
   ],
   "source": [
    "n = p * q\n",
    "phi = (p - 1) * (q - 1)\n",
    "print(n)\n",
    "print(phi)"
   ]
  },
  {
   "cell_type": "markdown",
   "id": "a3842e6b",
   "metadata": {},
   "source": [
    "Bước 3: Chọn e là số nguyên tố sao cho 1 < e < φ(n) và gcd(e,φ(n))=1"
   ]
  },
  {
   "cell_type": "code",
   "execution_count": 72,
   "id": "e240e954",
   "metadata": {},
   "outputs": [],
   "source": [
    "e = 3"
   ]
  },
  {
   "cell_type": "markdown",
   "id": "11d5fd97",
   "metadata": {},
   "source": [
    "tính d = e^-1 mod  φ(n)"
   ]
  },
  {
   "cell_type": "code",
   "execution_count": 73,
   "id": "6913ffef",
   "metadata": {},
   "outputs": [
    {
     "name": "stdout",
     "output_type": "stream",
     "text": [
      "235\n"
     ]
    }
   ],
   "source": [
    "#d = (e ** -1) % phi\n",
    "d = pow(e, -1, phi)\n",
    "print(d)"
   ]
  },
  {
   "cell_type": "markdown",
   "id": "97ae0b98",
   "metadata": {},
   "source": [
    "Mã hóa"
   ]
  },
  {
   "cell_type": "code",
   "execution_count": 74,
   "id": "518f8323",
   "metadata": {},
   "outputs": [
    {
     "name": "stdout",
     "output_type": "stream",
     "text": [
      "343\n"
     ]
    }
   ],
   "source": [
    "C = (m ** e) % n\n",
    "print(C)"
   ]
  },
  {
   "cell_type": "markdown",
   "id": "d42910fe",
   "metadata": {},
   "source": [
    "Giải mã"
   ]
  },
  {
   "cell_type": "code",
   "execution_count": 75,
   "id": "872efb13",
   "metadata": {},
   "outputs": [
    {
     "name": "stdout",
     "output_type": "stream",
     "text": [
      "7\n"
     ]
    }
   ],
   "source": [
    "M = (C ** d) % n\n",
    "print(M)"
   ]
  },
  {
   "cell_type": "markdown",
   "id": "f2dce08c",
   "metadata": {},
   "source": [
    "Hàm RSA basic"
   ]
  },
  {
   "cell_type": "code",
   "execution_count": 76,
   "id": "0b25d16d",
   "metadata": {},
   "outputs": [
    {
     "name": "stdout",
     "output_type": "stream",
     "text": [
      "n = 391\n",
      "phi = 352\n",
      "d = 235\n",
      "C = 343\n",
      "M = 7\n"
     ]
    }
   ],
   "source": [
    "def BasicRSA (m, q, p, e):\n",
    "    n = p * q\n",
    "    print(\"n =\", n)\n",
    "\n",
    "    phi = (p - 1) * (q - 1)\n",
    "    print(\"phi =\",phi)\n",
    "\n",
    "    # d = (e ** -1) % phi\n",
    "    d = pow(e, -1, phi)\n",
    "    print(\"d =\",d)\n",
    "\n",
    "    C = (m ** e) % n\n",
    "    print(\"C =\", C)\n",
    "\n",
    "    M = (C ** d) % n\n",
    "    print(\"M =\",M)\n",
    "\n",
    "BasicRSA(7, 17, 23, 3)"
   ]
  }
 ],
 "metadata": {
  "kernelspec": {
   "display_name": "Python 3",
   "language": "python",
   "name": "python3"
  },
  "language_info": {
   "codemirror_mode": {
    "name": "ipython",
    "version": 3
   },
   "file_extension": ".py",
   "mimetype": "text/x-python",
   "name": "python",
   "nbconvert_exporter": "python",
   "pygments_lexer": "ipython3",
   "version": "3.13.4"
  }
 },
 "nbformat": 4,
 "nbformat_minor": 5
}
