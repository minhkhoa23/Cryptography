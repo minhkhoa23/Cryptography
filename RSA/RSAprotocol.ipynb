{
 "cells": [
  {
   "cell_type": "markdown",
   "id": "e2439a35",
   "metadata": {},
   "source": [
    "# Cài đặt giao thức RSA"
   ]
  },
  {
   "cell_type": "markdown",
   "id": "e42745bf",
   "metadata": {},
   "source": [
    "RSA.1 Tính toán số lớn - BigInteger"
   ]
  },
  {
   "cell_type": "markdown",
   "id": "259abdf4",
   "metadata": {},
   "source": [
    "addMod function"
   ]
  },
  {
   "cell_type": "code",
   "execution_count": 5,
   "id": "be64bf6e",
   "metadata": {},
   "outputs": [],
   "source": [
    "def addMod (x, y, n):\n",
    "    if (x + y) < n:\n",
    "        return x + y\n",
    "    return x + y - n"
   ]
  },
  {
   "cell_type": "code",
   "execution_count": null,
   "id": "cd516673",
   "metadata": {},
   "outputs": [
    {
     "name": "stdout",
     "output_type": "stream",
     "text": [
      "8\n",
      "4\n",
      "25\n",
      "194\n"
     ]
    },
    {
     "data": {
      "text/plain": [
       "5"
      ]
     },
     "execution_count": 7,
     "metadata": {},
     "output_type": "execute_result"
    }
   ],
   "source": [
    "print(addMod(5, 3, 10))   # 8\n",
    "print(addMod(9, 5, 10))   # 4\n",
    "print(addMod(15, 20, 10)) # 5\n",
    "print(addMod(100, 350, 256)) # 194\n"
   ]
  },
  {
   "cell_type": "markdown",
   "id": "df65f5d9",
   "metadata": {},
   "source": [
    "mulMod funcion có mục tiêu là tính trực tiếp (x * y) mod n mà không cần tính x * y vì quá lớn "
   ]
  },
  {
   "cell_type": "code",
   "execution_count": 1,
   "id": "403f8020",
   "metadata": {},
   "outputs": [],
   "source": [
    "def mulMod(x, y, n):\n",
    "    P = 0\n",
    "\n",
    "    y_bits = bin(y)[2:][::-1]\n",
    "    b = len(y_bits)\n",
    "\n",
    "    if y_bits[0] == '1':\n",
    "        P = x % n\n",
    "    \n",
    "    for i in range(1, b):\n",
    "        x = (2 * x) % n\n",
    "\n",
    "        if y_bits[i] == '1':\n",
    "            P = (P + x) % n\n",
    "    \n",
    "    return P % n"
   ]
  },
  {
   "cell_type": "code",
   "execution_count": 3,
   "id": "9548971c",
   "metadata": {},
   "outputs": [
    {
     "data": {
      "text/plain": [
       "0"
      ]
     },
     "execution_count": 3,
     "metadata": {},
     "output_type": "execute_result"
    }
   ],
   "source": [
    "mulMod(23, 17, 391)"
   ]
  }
 ],
 "metadata": {
  "kernelspec": {
   "display_name": "Python 3",
   "language": "python",
   "name": "python3"
  },
  "language_info": {
   "codemirror_mode": {
    "name": "ipython",
    "version": 3
   },
   "file_extension": ".py",
   "mimetype": "text/x-python",
   "name": "python",
   "nbconvert_exporter": "python",
   "pygments_lexer": "ipython3",
   "version": "3.13.4"
  }
 },
 "nbformat": 4,
 "nbformat_minor": 5
}
